{
  "cells": [
    {
      "attachments": {},
      "cell_type": "markdown",
      "metadata": {
        "id": "M74Gs_TjYl_B"
      },
      "source": [
        "[![Open In Colab](https://colab.research.google.com/assets/colab-badge.svg)](https://colab.research.google.com/github/mjavadpur/styleheat/blob/main/quick_demo.ipynb)"
      ]
    },
    {
      "cell_type": "code",
      "execution_count": null,
      "metadata": {},
      "outputs": [],
      "source": [
        "!git clone https://github.com/mjavadpur/StyleHEAT.git\n",
        "%cd StyleHEAT\n"
      ]
    },
    {
      "cell_type": "code",
      "execution_count": null,
      "metadata": {
        "id": "qJ4CplXsYl_E"
      },
      "outputs": [],
      "source": [
        "!pip install torch==1.7.1+cu110 torchvision==0.8.2+cu110 -f https://download.pytorch.org/whl/torch_stable.html\n",
        "!pip install -r requirements.txt\n",
        "!pip install gdown\n"
      ]
    },
    {
      "cell_type": "code",
      "execution_count": null,
      "metadata": {},
      "outputs": [],
      "source": [
        "#Download the compressed package and extract it to the project path (need to be executed when downloading Google Cloud Disk and Quark Cloud Disk)\n",
        "import gdown\n",
        "\n",
        "url = 'https://drive.google.com/drive/folders/1-m47oPsa3kxjgK5eSJ8g8sHzG4zr2oRc'\n",
        "output = '/content/StyleHEAT/checkpoints/checkpoints.tar.gz'\n",
        "gdown.download(url, output, quiet=False)\n",
        "\n",
        "\n"
      ]
    },
    {
      "cell_type": "code",
      "execution_count": null,
      "metadata": {},
      "outputs": [],
      "source": [
        "# !tar -zxvf /content/SoundSketch_vidoe_lipSync/checkpoints/checkpoints.tar.gz\n",
        "\n",
        "import tarfile\n",
        "\n",
        "def extract_tar_gz(file_path, extract_path='.'):\n",
        "    \"\"\"\n",
        "    Extracts a .tar.gz file to the specified path.\n",
        "    :param file_path: The path to the .tar.gz file.\n",
        "    :param extract_path: The path where the file will be extracted.\n",
        "    \"\"\"\n",
        "    with tarfile.open(file_path, 'r:gz') as tar:\n",
        "        tar.extractall(path=extract_path)\n",
        "\n",
        "# Example usage\n",
        "tar_gz_file = '/content/StyleHEAT/checkpoints/checkpoints.tar.gz'\n",
        "extract_tar_gz(tar_gz_file, \"/content/StyleHEAT/\")\n"
      ]
    },
    {
      "cell_type": "code",
      "execution_count": null,
      "metadata": {},
      "outputs": [],
      "source": [
        "%cd StyleHEAT"
      ]
    },
    {
      "cell_type": "code",
      "execution_count": null,
      "metadata": {},
      "outputs": [],
      "source": [
        "# Same-Identity Reenactment with a video.\n",
        "!python inference.py \\\n",
        "            --config configs/inference.yaml \\\n",
        "            --video_source=./docs/demo/videos/RD_Radio34_003_512.mp4 \\\n",
        "            --output_dir=./docs/demo/output --if_extract"
      ]
    },
    {
      "cell_type": "code",
      "execution_count": null,
      "metadata": {},
      "outputs": [],
      "source": [
        "# Cross-Identity Reenactment with a single image and a video.\n",
        "!python inference.py \\\n",
        "            --config configs/inference.yaml \\\n",
        "            --video_source=./docs/demo/videos/RD_Radio34_003_512.mp4 \\\n",
        "            --image_source=./docs/demo/images/100.jpg \\\n",
        "            --cross_id --if_extract \\\n",
        "            --output_dir=./docs/demo/output"
      ]
    }
  ],
  "metadata": {
    "accelerator": "GPU",
    "colab": {
      "provenance": []
    },
    "gpuClass": "standard",
    "kernelspec": {
      "display_name": "base",
      "language": "python",
      "name": "python3"
    },
    "language_info": {
      "name": "python",
      "version": "3.9.7"
    },
    "vscode": {
      "interpreter": {
        "hash": "db5031b3636a3f037ea48eb287fd3d023feb9033aefc2a9652a92e470fb0851b"
      }
    }
  },
  "nbformat": 4,
  "nbformat_minor": 0
}
